{
 "cells": [
  {
   "cell_type": "code",
   "execution_count": 1,
   "metadata": {},
   "outputs": [
    {
     "name": "stdout",
     "output_type": "stream",
     "text": [
      "Python v3.9.5 (tags/v3.9.5:0a7dcbd, May  3 2021, 17:27:52) [MSC v.1928 64 bit (AMD64)]\n",
      "Pandas v1.1.4\n",
      "Bokeh v2.2.3\n"
     ]
    }
   ],
   "source": [
    "import sys\n",
    "\n",
    "import pandas as pd\n",
    "import bokeh\n",
    "from bokeh.plotting import figure\n",
    "from bokeh.io import output_file, output_notebook, show\n",
    "from bokeh.models import DatetimeTickFormatter, BoxSelectTool, HoverTool, Label, LabelSet, LinearAxis, Range1d\n",
    "from bokeh.layouts import widgetbox\n",
    "from bokeh.models.widgets import Dropdown\n",
    "\n",
    "print('Python v' + sys.version)\n",
    "print('Pandas v' + pd.__version__)\n",
    "print('Bokeh v' + bokeh.__version__)"
   ]
  },
  {
   "cell_type": "markdown",
   "metadata": {},
   "source": [
    "##### Колоне за све мераче протока"
   ]
  },
  {
   "cell_type": "code",
   "execution_count": 2,
   "metadata": {},
   "outputs": [],
   "source": [
    "# priprema tipova kolona\n",
    "\n",
    "dtypes = {'vreme': 'str',\n",
    "          'I-1-LJB':'float',\n",
    "          'I-BBV-2':'float',\n",
    "          'BBV_II-8':'float',\n",
    "          'I-2-DIV':'float',\n",
    "          'I-3-MOK':'float',\n",
    "          'I-4-KR1':'float',\n",
    "          'I-4-KR2':'float',\n",
    "          'I-5-STU':'float',\n",
    "          'I-6-MLJ':'float',\n",
    "          'I-7-M10':'float',\n",
    "          'I-7-M11':'float',\n",
    "          'I-7-M2':'float',\n",
    "          'I-V-6':'float',\n",
    "          'MRB':'float', \n",
    "          'III-8':'float',\n",
    "          'M-10-20-1':'float', \n",
    "          'M-10-40-3':'float', \n",
    "          'M-10-40-4':'float',\n",
    "          'M-10-50-5':'float',\n",
    "          'M-10-60-6':'float',\n",
    "          'M-10-80-7':'float',\n",
    "          'M-10-80-8':'float',\n",
    "          'M-100-120-9':'float',\n",
    "          'M-10-90-10':'float',\n",
    "          'M-10-100-11':'float',\n",
    "          'M-10-20-12':'float',\n",
    "          'M-20-992-13':'float',\n",
    "          'M-20-30-14':'float',\n",
    "          'M-20-100-15':'float', \n",
    "          'M-40-50-16':'float',\n",
    "          'M-70-81-17':'float',\n",
    "          'M-20-40-18':'float',\n",
    "          'M-50-60-19':'float',\n",
    "          'M-90-91-20':'float',\n",
    "          'M-20-40-21':'float',\n",
    "          'M-20-30-22':'float',         \n",
    "          'M-20-50-23':'float',\n",
    "          'M-20-992-27':'float',\n",
    "          'M-120-150-28':'float', \n",
    "          'M-80-140-29':'float',\n",
    "          'M-10-90-32':'float',          \n",
    "          'M-170-992-34':'float',\n",
    "          'M-190-21-35':'float'\n",
    "         }\n",
    "\n",
    "# priprema datuma\n",
    "\n",
    "parse_dates = ['vreme']\n"
   ]
  },
  {
   "cell_type": "markdown",
   "metadata": {},
   "source": [
    "### Читање припремљених CSV датотека за годину мерења:"
   ]
  },
  {
   "cell_type": "code",
   "execution_count": 3,
   "metadata": {},
   "outputs": [],
   "source": [
    "def q_csv(godina):\n",
    "    \n",
    "    # čitanje kreiranog CSV fajla sa merenim protocima (SCADA_2021.csv)\n",
    "    # df_q = pd.read_csv(\"SCADA_2021.csv\", sep=',', header=0, dtype=dtypes, parse_dates=parse_dates, infer_datetime_format=True)\n",
    "\n",
    "    csv_ime = \"SCADA_\" + godina + \".csv\"\n",
    "    q = pd.read_csv(csv_ime, sep=',', header=0, dtype=dtypes, parse_dates=parse_dates, infer_datetime_format=True)\n",
    "\n",
    "    # određivanje indeks kolone\n",
    "    q.set_index(\"vreme\", inplace=True)\n",
    "    \n",
    "    return q\n",
    "\n",
    "def p_csv(godina):\n",
    "    \n",
    "    # čitanje kreiranog CSV fajla sa merenim pritiscima (SCADA_2021_p.csv)\n",
    "    # df_p = pd.read_csv(\"SCADA_2021_p.csv\", sep=',', header=0, dtype=dtypes, parse_dates=parse_dates, infer_datetime_format=True)\n",
    "   \n",
    "    csv_ime = \"SCADA_\" + godina + \"_p.csv\"\n",
    "    p = pd.read_csv(csv_ime, sep=',', header=0, dtype=dtypes, parse_dates=parse_dates, infer_datetime_format=True)\n",
    "    \n",
    "    # određivanje indeks kolone\n",
    "    p.set_index(\"vreme\", inplace=True)\n",
    "    \n",
    "    return p\n",
    "\n",
    "def rez_csv(godina):\n",
    "    \n",
    "    # čitanje kreiranog CSV fajla sa merenim nivoia rezervoara (SCADA_2021_REZ.csv)\n",
    "    # df_p = pd.read_csv(\"SCADA_2021_REZ.csv\", sep=',', header=0, dtype=dtypes, parse_dates=parse_dates, infer_datetime_format=True)\n",
    "   \n",
    "    csv_ime = \"SCADA_\" + godina + \"_REZ.csv\"\n",
    "    rez = pd.read_csv(csv_ime, sep=',', header=0, dtype=dtypes, parse_dates=parse_dates, infer_datetime_format=True)\n",
    "    \n",
    "    # određivanje indeks kolone\n",
    "    rez.set_index(\"vreme\", inplace=True)\n",
    "    \n",
    "    return rez\n"
   ]
  },
  {
   "cell_type": "code",
   "execution_count": 4,
   "metadata": {},
   "outputs": [
    {
     "name": "stdout",
     "output_type": "stream",
     "text": [
      "Index(['I-1-LJB', 'I-BBV-2', 'BBV_II-8', 'I-2-DIV', 'I-3-MOK', 'I-4-KR1',\n",
      "       'I-4-KR2', 'I-V-6', 'I-5-STU', 'MRB', 'III-8', 'M-70-81-17', 'I-7-M10',\n",
      "       'I-7-M11', 'I-7-M2', 'I-6-MLJ', 'M-20-992-13', 'M-20-992-27',\n",
      "       'M-170-992-34', 'M-190-21-35', 'M-100-120-9', 'M-10-100-11',\n",
      "       'M-10-20-1', 'M-10-20-12', 'M-10-40-3', 'M-10-40-4', 'M-10-50-5',\n",
      "       'M-10-60-6', 'M-10-80-7', 'M-10-80-8', 'M-10-90-10', 'M-10-90-32',\n",
      "       'M-120-150-28', 'M-20-100-15', 'M-20-30-14', 'M-20-30-22', 'M-20-40-18',\n",
      "       'M-20-40-21', 'M-20-50-23', 'M-40-50-16', 'M-50-60-19', 'M-80-140-29',\n",
      "       'M-90-91-20'],\n",
      "      dtype='object')\n",
      "Index(['Vinik', 'Krupac', 'Bubanj', 'Matejevac_2', 'Miljkovac', 'Toplik_B',\n",
      "       'Toplik_PS'],\n",
      "      dtype='object')\n"
     ]
    }
   ],
   "source": [
    "print(q_csv(\"2021\").columns)\n",
    "\n",
    "print(rez_csv(\"2021\").columns)"
   ]
  },
  {
   "cell_type": "code",
   "execution_count": 5,
   "metadata": {},
   "outputs": [],
   "source": [
    "# df_q = q_csv(\"2020\")\n",
    "# df_p = p_csv(\"2020\")\n",
    "\n",
    "# df_q = q_csv(\"2021\")\n",
    "# df_p = p_csv(\"2021\")\n",
    "# df_rez = rez_csv(\"2021\")\n",
    "\n",
    "# df_q\n",
    "# df_p"
   ]
  },
  {
   "cell_type": "markdown",
   "metadata": {},
   "source": [
    "### Читање логова за поједине мераче:"
   ]
  },
  {
   "cell_type": "code",
   "execution_count": 6,
   "metadata": {},
   "outputs": [],
   "source": [
    "def mp_log(df, db_mp):\n",
    "    \n",
    "    return df[db_mp]   "
   ]
  },
  {
   "cell_type": "markdown",
   "metadata": {},
   "source": [
    "#### Протоци ( Q)"
   ]
  },
  {
   "cell_type": "code",
   "execution_count": 7,
   "metadata": {},
   "outputs": [],
   "source": [
    "# definisanje kolona\n",
    "\n",
    "vreme = q_csv(\"2021\").index\n",
    "LJB = mp_log(q_csv(\"2021\"),'I-1-LJB')          # 1\n",
    "BNI = mp_log(q_csv(\"2021\"),'I-BBV-2')          # 2\n",
    "BAB = mp_log(q_csv(\"2021\"),'BBV_II-8')         # 3\n",
    "DIV = mp_log(q_csv(\"2021\"),'I-2-DIV')          # 4\n",
    "MOK = mp_log(q_csv(\"2021\"),'I-3-MOK')          # 5\n",
    "KR1 = mp_log(q_csv(\"2021\"),'I-4-KR1')          # 6\n",
    "KR2 = mp_log(q_csv(\"2021\"),'I-4-KR2')          # 7\n",
    "VIN = mp_log(q_csv(\"2021\"),'I-V-6')            # 8\n",
    "VN1 = mp_log(q_csv(\"2021\"),'M-20-992-13')      # 9\n",
    "VN2 = mp_log(q_csv(\"2021\"),'M-20-992-27')      # 10\n",
    "VN3 = mp_log(q_csv(\"2021\"),'M-170-992-34')     # 11\n",
    "VN4 = mp_log(q_csv(\"2021\"),'M-190-21-35')      # 12\n",
    "\n",
    "M10 = mp_log(q_csv(\"2021\"),'I-7-M10')          # 13\n",
    "M11 = mp_log(q_csv(\"2021\"),'I-7-M11')          # 14\n",
    "M20 = mp_log(q_csv(\"2021\"),'I-7-M2')           # 15\n",
    "\n",
    "STU = mp_log(q_csv(\"2021\"),'I-5-STU')          # 16\n",
    "MRB = mp_log(q_csv(\"2021\"),'MRB')              # 17\n",
    "\n",
    "MET = mp_log(q_csv(\"2021\"),'III-8')            # 18\n",
    "BUB = mp_log(q_csv(\"2021\"),'M-70-81-17')       # 19\n",
    "\n",
    "MLJ = mp_log(q_csv(\"2021\"),'I-6-MLJ')          # 20\n",
    "\n",
    "KNJ = mp_log(q_csv(\"2021\"),'M-20-30-14')       # 21\n",
    "DJM = mp_log(q_csv(\"2021\"),'M-20-30-22')       # 22\n",
    "\n",
    "NTX = mp_log(q_csv(\"2021\"),'M-10-20-1')        # 23\n",
    "ROD = mp_log(q_csv(\"2021\"),'M-10-40-3')        # 24"
   ]
  },
  {
   "cell_type": "code",
   "execution_count": 8,
   "metadata": {},
   "outputs": [],
   "source": [
    "# print(vreme)\n",
    "# print(LJB)\n",
    "# print(LJB.index)\n",
    "# print(LJB[0])\n",
    "# print(LJB.index[0], LJB[0])"
   ]
  },
  {
   "cell_type": "markdown",
   "metadata": {},
   "source": [
    "#### Притисци (p)"
   ]
  },
  {
   "cell_type": "code",
   "execution_count": 9,
   "metadata": {},
   "outputs": [],
   "source": [
    "# definisanje kolona\n",
    "vreme_p = p_csv(\"2021\").index\n",
    "LJB_p = mp_log(p_csv(\"2021\"),'I-1-LJB')          # 1\n",
    "BNI_p = mp_log(p_csv(\"2021\"),'I-BBV-2')          # 2\n",
    "BAB_p = mp_log(p_csv(\"2021\"),'BBV_II-8')         # 3\n",
    "DIV_p = mp_log(p_csv(\"2021\"),'I-2-DIV')          # 4\n",
    "MOK_p = mp_log(p_csv(\"2021\"),'I-3-MOK')          # 5\n",
    "KR1_p = mp_log(p_csv(\"2021\"),'I-4-KR1')          # 6\n",
    "KR2_p = mp_log(p_csv(\"2021\"),'I-4-KR2')          # 7\n",
    "VIN_p = mp_log(p_csv(\"2021\"),'I-V-6')            # 8\n",
    "VN1_p = mp_log(p_csv(\"2021\"),'M-20-992-13')      # 9\n",
    "VN2_p = mp_log(p_csv(\"2021\"),'M-20-992-27')      # 10\n",
    "VN3_p = mp_log(p_csv(\"2021\"),'M-170-992-34')     # 11\n",
    "VN4_p = mp_log(p_csv(\"2021\"),'M-190-21-35')      # 12\n",
    "   \n",
    "M10_p = mp_log(p_csv(\"2021\"),'I-7-M10')          # 13\n",
    "M11_p = mp_log(p_csv(\"2021\"),'I-7-M11')          # 14\n",
    "M20_p = mp_log(p_csv(\"2021\"),'I-7-M2')           # 15\n",
    "\n",
    "STU_p = mp_log(p_csv(\"2021\"),'I-5-STU')          # 16\n",
    "MRB_p = mp_log(p_csv(\"2021\"),'MRB')              # 17\n",
    "MET_p = mp_log(p_csv(\"2021\"),'III-8')            # 18\n",
    "BUB_p = mp_log(p_csv(\"2021\"),'M-70-81-17')       # 19\n",
    "\n",
    "MLJ_p = mp_log(p_csv(\"2021\"),'I-6-MLJ')          # 20\n",
    "\n",
    "KNJ_p = mp_log(p_csv(\"2021\"),'M-20-30-14')       # 21\n",
    "DJM_p = mp_log(p_csv(\"2021\"),'M-20-30-22')       # 22\n",
    "\n",
    "NTX_p = mp_log(p_csv(\"2021\"),'M-10-20-1')        # 23\n",
    "ROD_p = mp_log(p_csv(\"2021\"),'M-10-40-3')        # 24\n"
   ]
  },
  {
   "cell_type": "markdown",
   "metadata": {},
   "source": [
    "#### Резервоари (ниво у метрима)"
   ]
  },
  {
   "cell_type": "code",
   "execution_count": 10,
   "metadata": {},
   "outputs": [],
   "source": [
    "# definisanje kolona\n",
    "vreme_rez = rez_csv(\"2021\").index\n",
    "\n",
    "VIN_r = mp_log(rez_csv(\"2021\"),'Vinik')           # 1\n",
    "KRP_r = mp_log(rez_csv(\"2021\"),'Krupac')          # 2\n",
    "BUB_r = mp_log(rez_csv(\"2021\"),'Bubanj')          # 3\n",
    "MAT_r = mp_log(rez_csv(\"2021\"),'Matejevac_2')     # 4\n",
    "MLJ_r = mp_log(rez_csv(\"2021\"),'Miljkovac')       # 5\n",
    "TPB_r = mp_log(rez_csv(\"2021\"),'Toplik_B')        # 6\n",
    "TPS_r = mp_log(rez_csv(\"2021\"),'Toplik_PS')       # 7\n"
   ]
  },
  {
   "cell_type": "markdown",
   "metadata": {},
   "source": [
    "## подешавања дијаграма (bokeh)"
   ]
  },
  {
   "cell_type": "code",
   "execution_count": 11,
   "metadata": {},
   "outputs": [],
   "source": [
    "TOOLS = [\"xpan\", \"xwheel_zoom\", \"box_zoom\", \"reset\", \"save\"]\n",
    "\n",
    "# TOOLTIPS = [\n",
    "#     (\"MP\", \"$name\"),\n",
    "#     (\"(Q,t)\", \"($y, $x)\")\n",
    "# ]\n",
    "\n",
    "\n",
    "hover = HoverTool(tooltips=[\n",
    "    (\"MP\", \"$name\"),\n",
    "    (\"Q\", \"$y{0.0 a}\"),\n",
    "    (\"datum\", \"$x{%F}\"),\n",
    "    (\"vreme\", \"$x{%H:%M}\")\n",
    "#   ( 'close',  '$@{adj close}{%0.2f}' ), # use @{ } for field names with spaces\n",
    "#   ( 'volume', '@volume{0.00 a}'      ),\n",
    "    ],\n",
    "\n",
    "    formatters={\n",
    "        \"$x\": 'datetime'      #, use 'datetime' formatter for '@date' field\n",
    "#       '@{adj close}':'printf', # use 'printf' formatter for '@{adj close}' field\n",
    "                                 # use default 'numeral' formatter for other fields\n",
    "    },\n",
    "\n",
    "    # display a tooltip whenever the cursor is vertically in line with a glyph\n",
    "    mode='mouse'\n",
    ")"
   ]
  },
  {
   "cell_type": "code",
   "execution_count": 12,
   "metadata": {},
   "outputs": [],
   "source": [
    "# postavke za bokeh dijagram protoka\n",
    "\n",
    "f = figure(\n",
    "           plot_width=1500,\n",
    "           plot_height=500,\n",
    "           x_axis_type='datetime',\n",
    "           y_range=(-200, 1400),\n",
    "           tools=TOOLS+[hover],\n",
    "#            tooltips=TOOLTIPS,\n",
    "           active_scroll='xwheel_zoom',\n",
    "           background_fill_color=\"#f9f9f9\",\n",
    "           toolbar_location=\"above\"\n",
    "          )     \n",
    "\n",
    "f.add_tools(BoxSelectTool(dimensions=\"width\"))\n",
    "\n",
    "f.title.text_color=\"blue\"\n",
    "f.title.text_font=\"arial\"\n",
    "f.title.text_font_style=\"bold\"\n",
    "f.title.text_font_size=\"14pt\" # \"1.5em\" \n",
    "f.title.text_alpha=1 #floating point between 0 (transparent) and 1 (opaque)\n",
    "\n",
    "f.xaxis.minor_tick_line_color=None\n",
    "f.yaxis.minor_tick_line_color=None\n",
    "f.xaxis.axis_label=\"Време\"\n",
    "f.yaxis.axis_label=\"Проток (лит/сек)\" \n",
    "\n",
    "f.xaxis.formatter=DatetimeTickFormatter(hours=[\"%H:%M\"],days=[\"%d %B\"],months=[\"%B %Y\"],years=[\"%Y\"])\n",
    "\n",
    "f.toolbar.autohide = True"
   ]
  },
  {
   "cell_type": "code",
   "execution_count": 13,
   "metadata": {},
   "outputs": [],
   "source": [
    "# postavke za bokeh dijagram pritisaka\n",
    "\n",
    "p = figure(\n",
    "           plot_width=1500,\n",
    "           plot_height=14,\n",
    "           x_axis_type='datetime',\n",
    "           y_range=(-5, 13),\n",
    "           tools=TOOLS+[hover],\n",
    "#            tooltips=TOOLTIPS,\n",
    "           active_scroll='xwheel_zoom',\n",
    "           background_fill_color=\"#f9f9f9\",\n",
    "           toolbar_location=\"above\"\n",
    "          )     \n",
    "\n",
    "p.add_tools(BoxSelectTool(dimensions=\"width\"))\n",
    "\n",
    "p.title.text_color=\"green\"\n",
    "p.title.text_font=\"arial\"\n",
    "p.title.text_font_style=\"bold\"\n",
    "p.title.text_font_size=\"14pt\" # \"1.5em\" \n",
    "p.title.text_alpha=1 #floating point between 0 (transparent) and 1 (opaque)\n",
    "\n",
    "p.xaxis.minor_tick_line_color=None\n",
    "p.yaxis.minor_tick_line_color=None\n",
    "p.xaxis.axis_label=\"Време\"\n",
    "p.yaxis.axis_label=\"Притисак (бар)\" \n",
    "\n",
    "p.xaxis.formatter=DatetimeTickFormatter(hours=[\"%H:%M\"],days=[\"%d %B\"],months=[\"%B %Y\"],years=[\"%Y\"])\n",
    "\n",
    "p.toolbar.autohide = True"
   ]
  },
  {
   "cell_type": "code",
   "execution_count": 14,
   "metadata": {},
   "outputs": [],
   "source": [
    "# postavke za bokeh dijagram nivoa u rezervoarima\n",
    "\n",
    "r = figure(\n",
    "           plot_width=1500,\n",
    "           plot_height=14,\n",
    "           x_axis_type='datetime',\n",
    "           y_range=(-5, 13),\n",
    "           tools=TOOLS+[hover],\n",
    "#            tooltips=TOOLTIPS,\n",
    "           active_scroll='xwheel_zoom',\n",
    "           background_fill_color=\"#f9f9f9\",\n",
    "           toolbar_location=\"above\"\n",
    "          )     \n",
    "\n",
    "r.add_tools(BoxSelectTool(dimensions=\"width\"))\n",
    "\n",
    "r.title.text_color=\"cyan\"\n",
    "r.title.text_font=\"arial\"\n",
    "r.title.text_font_style=\"bold\"\n",
    "r.title.text_font_size=\"14pt\" # \"1.5em\" \n",
    "r.title.text_alpha=1 #floating point between 0 (transparent) and 1 (opaque)\n",
    "\n",
    "r.xaxis.minor_tick_line_color=None\n",
    "r.axis.minor_tick_line_color=None\n",
    "r.xaxis.axis_label=\"Време\"\n",
    "r.yaxis.axis_label=\"Ниво (метара)\" \n",
    "\n",
    "r.xaxis.formatter=DatetimeTickFormatter(hours=[\"%H:%M\"],days=[\"%d %B\"],months=[\"%B %Y\"],years=[\"%Y\"])\n",
    "\n",
    "r.toolbar.autohide = True"
   ]
  },
  {
   "cell_type": "markdown",
   "metadata": {},
   "source": [
    "#### ИЗВОРИШТА (појединачне криве протока)"
   ]
  },
  {
   "cell_type": "code",
   "execution_count": 15,
   "metadata": {},
   "outputs": [],
   "source": [
    "def izvorista_mp():\n",
    "    \n",
    "    f.title.text=\"НИВОС - Испоручена вода на извориштима 2021\"\n",
    "\n",
    "    f.line(vreme, LJB, color=\"brown\", name=\"Љуберађа\", legend_label = 'Љуберађа')\n",
    "    f.line(vreme, DIV, color=\"red\", name=\"Дивљана\", legend_label = 'Дивљана')\n",
    "    f.line(vreme, MOK, color=\"purple\", name=\"Мокра\", legend_label = 'Мокра')\n",
    "    f.line(vreme, KR1, color=\"orange\", name=\"Крупац (стара ПС)\", legend_label = 'Крупац (стара ПС)')\n",
    "    f.line(vreme, KR2, color=\"yellow\", name=\"Крупац (нова ПС)\", legend_label = 'Крупац (нова ПС)')\n",
    "    f.line(vreme, STU, color=\"cyan\", name=\"Студена\", legend_label = 'Студена')\n",
    "    f.line(vreme, MLJ, color=\"green\", name=\"Миљковац\", legend_label = 'Миљковац')\n",
    "    f.line(vreme, M10, color=\"blue\", name=\"Медијана 1\", legend_label = 'Медијана 1')\n",
    "    f.line(vreme, M11, color=\"skyblue\", name=\"Медијана (потисни)\", legend_label = 'Медијана (потисни)')\n",
    "    f.line(vreme, M20, color=\"powderblue\", name=\"Медијана 2\", legend_label = 'Медијана 2')\n",
    "\n",
    "    f.legend.location = 'top_left'\n",
    "    f.legend.title = 'Мерач протока'\n",
    "    f.legend.title_text_font = 'Arial'\n",
    "    f.legend.title_text_font_size = '10pt'\n",
    "    f.legend.items.reverse()\n",
    "\n",
    "    return show(f)"
   ]
  },
  {
   "cell_type": "markdown",
   "metadata": {},
   "source": [
    "#### ИЗВОРИШТА (кумулативна крива протока)"
   ]
  },
  {
   "cell_type": "code",
   "execution_count": 16,
   "metadata": {},
   "outputs": [],
   "source": [
    "def izvorista_mp_kumulativ():\n",
    "\n",
    "    f.title.text=\"НИВОС - Испоручена вода на извориштима 2021 - кумулативно\"\n",
    "\n",
    "#   SVA izvorišta\n",
    "    mm = ['I-1-LJB', 'I-2-DIV', 'I-3-MOK','I-4-KR1','I-4-KR2','I-5-STU','I-6-MLJ','I-7-M10','I-7-M11','I-7-M2']\n",
    "    nazivi = ['Љуберађа', 'Дивљана', 'Мокра', 'Крупац (стара ПС)', 'Крупац (нова ПС)', 'Студена', 'Миљковац', 'Медијана 1', 'Медијана (потисни)', 'Медијана 2']\n",
    "    boje = ['brown', 'red', 'purple', 'orange', 'yellow', 'cyan', 'green', 'blue', 'skyblue', 'powderblue']\n",
    "\n",
    "#     Bez Studene\n",
    "#     mm = ['I-1-LJB', 'I-2-DIV', 'I-3-MOK','I-4-KR1','I-4-KR2','I-6-MLJ','I-7-M10','I-7-M11','I-7-M2']\n",
    "#     nazivi = ['Љуберађа', 'Дивљана', 'Мокра', 'Крупац (стара ПС)', 'Крупац (нова ПС)', 'Миљковац', 'Медијана 1', 'Медијана (потисни)', 'Медијана 2']\n",
    "#     boje = ['brown', 'red', 'purple', 'orange', 'yellow', 'green', 'blue', 'skyblue', 'powderblue']\n",
    "\n",
    "    f.varea_stack(stackers=mm, x='vreme', color=boje, legend_label=nazivi, source=df_q)\n",
    "\n",
    "    f.legend.location = 'top_left'\n",
    "    f.legend.title = 'Мерач протока'\n",
    "    f.legend.title_text_font = 'Arial'\n",
    "    f.legend.title_text_font_size = '10pt'\n",
    "    f.legend.items.reverse()\n",
    "\n",
    "    return show(f)"
   ]
  },
  {
   "cell_type": "markdown",
   "metadata": {},
   "source": [
    "#### Љуберађа - Виник (Изворишта на магистралном цевоводу)"
   ]
  },
  {
   "cell_type": "code",
   "execution_count": 17,
   "metadata": {},
   "outputs": [],
   "source": [
    "def ljuberadja_vinik():\n",
    "    \n",
    "    mm = ['I-1-LJB', 'I-2-DIV', 'I-3-MOK','I-4-KR1','I-4-KR2']\n",
    "    nazivi = ['Љуберађа', 'Дивљана', 'Мокра', 'Крупац (стара ПС)', 'Крупац (нова ПС)']\n",
    "    boje = ['brown', 'red', 'purple', 'orange', 'yellow']\n",
    "\n",
    "    f.varea_stack(stackers=mm, x='vreme', color=boje, legend_label=nazivi, source=df_q)\n",
    "    f.line(vreme, VIN, color=\"blue\", line_width = 2, name=\"Виник - улаз\", legend_label = 'Виник - улаз')\n",
    "\n",
    "    f.legend.location = 'top_left'\n",
    "    f.legend.title = 'Мерач протока'\n",
    "    f.legend.title_text_font = 'Arial'\n",
    "    f.legend.title_text_font_size = '10pt'\n",
    "    f.legend.items.reverse()\n",
    "\n",
    "    return show(f)"
   ]
  },
  {
   "cell_type": "code",
   "execution_count": 18,
   "metadata": {},
   "outputs": [],
   "source": [
    "def vinik():\n",
    "    \n",
    "    # РЕЗЕРВОАР ВИНИК\n",
    "\n",
    "    f.line(vreme, VIN, color=\"blue\", line_width = 2, name=\"Виник - улаз\", legend_label = 'Виник - улаз')\n",
    "    f.line(vreme, VN1, color=\"green\", name=\"Виник - према граду\", legend_label = 'Виник - према граду')\n",
    "    f.line(vreme, VN2, color=\"lightseagreen\", name=\"Виник - према Комрену\", legend_label = 'Виник - према Комрену')\n",
    "    f.line(vreme, VN3, color=\"cyan\", name=\"ПС Виник Довод\", legend_label = 'ПС Виник Довод')\n",
    "    f.line(vreme, VN4, color=\"lightsteelblue\", name=\"ПС Виник Одвод\", legend_label = 'ПС Виник Одвод')\n",
    "\n",
    "    f.line(vreme, LJB, color=\"brown\", name=\"Љуберађа\", legend_label = 'Љуберађа')\n",
    "    f.line(vreme, DIV, color=\"red\", name=\"Дивљана\", legend_label = 'Дивљана')\n",
    "    f.line(vreme, MOK, color=\"purple\", name=\"Мокра\", legend_label = 'Мокра')\n",
    "\n",
    "    f.line(vreme, BNI, color=\"red\", name=\"ПС Бабушница -> Ниш\", legend_label = 'ПС Бабушница -> Ниш')\n",
    "    f.line(vreme, BAB, color=\"purple\", name=\"рез. Бабушница\", legend_label = 'рез. Бабушница')\n",
    "\n",
    "    f.legend.location = 'top_left'\n",
    "    f.legend.title = 'Мерач протока'\n",
    "    f.legend.title_text_font = 'Arial'\n",
    "    f.legend.title_text_font_size = '10pt'\n",
    "    f.legend.items.reverse()\n",
    "\n",
    "    return show(f)"
   ]
  },
  {
   "cell_type": "markdown",
   "metadata": {},
   "source": [
    "### МЕРНЕ ЗОНЕ"
   ]
  },
  {
   "cell_type": "markdown",
   "metadata": {},
   "source": [
    "#### Мерна Зона 30"
   ]
  },
  {
   "cell_type": "code",
   "execution_count": 19,
   "metadata": {},
   "outputs": [],
   "source": [
    "def mz_30():\n",
    "    \n",
    "    f.title.text=\"Мерна Зона 30\"\n",
    "\n",
    "    f.line(vreme, M20, color=\"powderblue\", name=\"Медијана 2\")\n",
    "    f.line(vreme, DJM, color=\"red\", name=\"Ђачко острво (Медијана)\")\n",
    "    f.line(vreme, KNJ, color=\"green\", name=\"Књажевачка\")\n",
    "    \n",
    "    return show(f)"
   ]
  },
  {
   "cell_type": "markdown",
   "metadata": {},
   "source": [
    "### Мерачи протока - појединачно"
   ]
  },
  {
   "cell_type": "markdown",
   "metadata": {},
   "source": [
    "#### МРБ"
   ]
  },
  {
   "cell_type": "code",
   "execution_count": 20,
   "metadata": {},
   "outputs": [],
   "source": [
    "def mp_MRB():\n",
    "    \n",
    "    f.title.text=\"МРБ\"\n",
    "    \n",
    "    f.line(vreme, MRB, color=\"green\", name=\"МРБ проток\")\n",
    "\n",
    "    return show(f)"
   ]
  },
  {
   "cell_type": "markdown",
   "metadata": {},
   "source": [
    "## СИТУАЦИЈЕ"
   ]
  },
  {
   "cell_type": "markdown",
   "metadata": {},
   "source": [
    "#### Хаварија \"Делта\" (АЦ 500) 23-октобар-2020"
   ]
  },
  {
   "cell_type": "code",
   "execution_count": 21,
   "metadata": {},
   "outputs": [],
   "source": [
    "def delta():\n",
    "    \n",
    "    vreme = q_csv(\"2020\").index\n",
    "\n",
    "    VN1 = mp_log(q_csv(\"2020\"),'M-20-992-13')\n",
    "    NTX = mp_log(q_csv(\"2020\"),'M-10-20-1')\n",
    "    ROD = mp_log(q_csv(\"2020\"),'M-10-40-3')\n",
    "\n",
    "    labela =Label(x=70, y=70, x_units='screen', text='LABELA', render_mode='css', \n",
    "                  border_line_color='black', border_line_alpha=1.0,\n",
    "                  background_fill_color='white', background_fill_alpha=1.0)\n",
    "    f.add_layout(labela)\n",
    "\n",
    "    f.title.text=\"Оштећење цевовода АЦ ∅500 - 23. Октобар 2020\"\n",
    "\n",
    "    f.line(vreme, VN1, line_width = 2, color=\"powderblue\", name=\"Виник 1 (подвожњак)\", legend_label = 'Виник 1 (подвожњак)')\n",
    "    f.line(vreme, NTX, line_width = 1, color=\"red\", name=\"Нитекс\", legend_label = 'Нитекс')\n",
    "    f.line(vreme, ROD, line_width = 1, color=\"green\", name=\"Рода (Меркатор)\", legend_label = 'Рода (Меркатор)')\n",
    "\n",
    "    f.legend.location = 'top_left'\n",
    "    f.legend.title = 'Мерач протока'\n",
    "    f.legend.title_text_font = 'Arial'\n",
    "    f.legend.title_text_font_size = '10pt'\n",
    "    \n",
    "    return show(f)"
   ]
  },
  {
   "cell_type": "markdown",
   "metadata": {},
   "source": [
    "#### II Висинска зона (југ) - Јун 2021 (Паси Пољана криза )"
   ]
  },
  {
   "cell_type": "code",
   "execution_count": 22,
   "metadata": {},
   "outputs": [],
   "source": [
    "def pasi_poljana():\n",
    "    \n",
    "    f = figure(\n",
    "           plot_width=1500,\n",
    "           plot_height=500,\n",
    "           x_axis_type='datetime',\n",
    "           y_range=(0, 150),\n",
    "           tools=TOOLS+[hover],\n",
    "#            tooltips=TOOLTIPS,\n",
    "           active_scroll='xwheel_zoom',\n",
    "           background_fill_color=\"#f9f9f9\",\n",
    "           toolbar_location=\"above\"\n",
    "          )   \n",
    "    \n",
    "    f.xaxis.axis_label = 'време'\n",
    "    f.yaxis.axis_label = 'lit/sec'\n",
    "    f.xaxis.formatter=DatetimeTickFormatter(hours=[\"%H:%M\"],days=[\"%d %B\"],months=[\"%B %Y\"],years=[\"%Y\"])\n",
    "    \n",
    "    \n",
    "    f.title.text=\"II Висинска зона (југ) 2021 \"\n",
    "\n",
    "    f.line(vreme, MET, line_width = 2, color=\"powderblue\", name=\"Метох\", legend_label = 'Метох [III-8]')\n",
    "    f.line(vreme, BUB, line_width = 1, color=\"red\", name=\"Бубањ\", legend_label = 'Бубањ [M-70-81-17]')\n",
    "        \n",
    "    f.extra_y_ranges = {\"Rez\": Range1d(start = 0, end = 6)}\n",
    "    f.add_layout(LinearAxis(y_range_name = \"Rez\", axis_label=\"Рез. ниво [m]\"), 'right')\n",
    "    f.line(vreme, BUB_r, line_width = 2, color=\"blue\", name=\"рез. Бубањ\", legend_label = 'рез. Бубањ [m] ', y_range_name = \"Rez\")\n",
    "\n",
    "    f.legend.location = 'top_left'\n",
    "    f.legend.title = 'Мерач'\n",
    "    f.legend.title_text_font = 'Arial'\n",
    "    f.legend.title_text_font_size = '10pt'\n",
    "                   \n",
    "    return show(f)\n",
    "    "
   ]
  },
  {
   "cell_type": "markdown",
   "metadata": {},
   "source": [
    "# Криве мерења"
   ]
  },
  {
   "cell_type": "code",
   "execution_count": 23,
   "metadata": {},
   "outputs": [],
   "source": [
    "# izvorista_mp()\n",
    "\n",
    "# izvorista_mp_kumulativ()\n",
    "\n",
    "# ljuberadja_vinik()\n",
    "\n",
    "# vinik()\n",
    "\n",
    "# MZ_30()\n",
    "\n",
    "# mp_MRB()\n",
    "\n",
    "# delta()\n",
    "\n",
    "pasi_poljana()"
   ]
  },
  {
   "cell_type": "code",
   "execution_count": 24,
   "metadata": {},
   "outputs": [],
   "source": [
    "# menu = [(\"Option 1\", \"item_1\"), (\"Option 2\", \"item_2\")]\n",
    "# dropdown = Dropdown(label=\"Dropdown Menu\", button_type=\"warning\", menu=menu)\n",
    "\n",
    "# f.legend.location = 'top_left'\n",
    "# f.legend.title = 'Мерачи протока 2021'\n",
    "# f.legend.title_text_font = 'Arial'\n",
    "# f.legend.title_text_font_size = '10pt'\n",
    "\n"
   ]
  },
  {
   "cell_type": "code",
   "execution_count": 25,
   "metadata": {},
   "outputs": [],
   "source": [
    "# from bokeh.models import ColumnDataSource\n",
    "# from bokeh.plotting import figure, show\n",
    "\n",
    "# data = {\n",
    "#     \"months\": [date(2019, 5, 1), date(2019, 6, 1), date(2019, 7, 1), date(2019, 8, 1)],\n",
    "#     \"dogs\": [7, 5, 12, 8],\n",
    "#     \"cats\": [25, 20, 10, 7],\n",
    "# }\n",
    "\n",
    "# column_data = ColumnDataSource(data=data)\n",
    "\n",
    "# p = figure(\n",
    "#     min_width=500,\n",
    "#     plot_height=300,\n",
    "#     sizing_mode=\"stretch_width\",\n",
    "#     toolbar_location=None,\n",
    "#     tools=\"\",\n",
    "#     x_axis_type=\"datetime\",\n",
    "# )\n",
    "\n",
    "# p.varea_stack(\n",
    "#     [\"dogs\", \"cats\"],\n",
    "#     x=\"months\",\n",
    "#     color=[\"#ff0000\", \"#00ff00\"],\n",
    "#     source=column_data,\n",
    "# )\n",
    "\n",
    "# show(p)"
   ]
  },
  {
   "cell_type": "code",
   "execution_count": 26,
   "metadata": {},
   "outputs": [],
   "source": [
    "# import numpy as np\n",
    "# import pandas as pd\n",
    "\n",
    "# from bokeh.palettes import brewer\n",
    "# from bokeh.plotting import figure, output_file, show\n",
    "\n",
    "# output_file('stacked_area.html')\n",
    "\n",
    "# N = 3\n",
    "# df = pd.DataFrame(np.random.randint(10, 100, size=(15, N))).add_prefix('y')\n",
    "\n",
    "# p = figure(x_range=(0, len(df)-1), y_range=(0, 800))\n",
    "# p.grid.minor_grid_line_color = '#eeeeee'\n",
    "\n",
    "# names = [\"y%d\" % i for i in range(N)]\n",
    "# p.varea_stack(stackers=names, x='index', color=brewer['Spectral'][N], legend_label=names, source=df)\n",
    "\n",
    "# # reverse the legend entries to match the stacked order\n",
    "# p.legend.items.reverse()\n",
    "\n",
    "# show(p)"
   ]
  },
  {
   "cell_type": "code",
   "execution_count": null,
   "metadata": {},
   "outputs": [],
   "source": []
  }
 ],
 "metadata": {
  "kernelspec": {
   "display_name": "Python 3",
   "language": "python",
   "name": "python3"
  },
  "language_info": {
   "codemirror_mode": {
    "name": "ipython",
    "version": 3
   },
   "file_extension": ".py",
   "mimetype": "text/x-python",
   "name": "python",
   "nbconvert_exporter": "python",
   "pygments_lexer": "ipython3",
   "version": "3.9.5"
  }
 },
 "nbformat": 4,
 "nbformat_minor": 4
}
