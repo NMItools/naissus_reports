{
 "cells": [
  {
   "cell_type": "code",
   "execution_count": 33,
   "metadata": {},
   "outputs": [
    {
     "name": "stdout",
     "output_type": "stream",
     "text": [
      "Python v3.9.2 (tags/v3.9.2:1a79785, Feb 19 2021, 13:44:55) [MSC v.1928 64 bit (AMD64)]\n",
      "Pandas v1.1.4\n",
      "Bokeh v2.2.3\n"
     ]
    }
   ],
   "source": [
    "import sys\n",
    "\n",
    "import pandas as pd\n",
    "import bokeh\n",
    "from bokeh.plotting import figure\n",
    "from bokeh.io import output_file, output_notebook, show\n",
    "from bokeh.models import DatetimeTickFormatter, BoxSelectTool, HoverTool, Label, LabelSet\n",
    "from bokeh.layouts import widgetbox\n",
    "from bokeh.models.widgets import Dropdown\n",
    "\n",
    "print('Python v' + sys.version)\n",
    "print('Pandas v' + pd.__version__)\n",
    "print('Bokeh v' + bokeh.__version__)"
   ]
  },
  {
   "cell_type": "code",
   "execution_count": 34,
   "metadata": {},
   "outputs": [],
   "source": [
    "# priprema tipova kolona\n",
    "\n",
    "dtypes = {'vreme': 'str',\n",
    "          'I-1-LJB':'float',\n",
    "          'I-BBV-2':'float',\n",
    "          'BBV_II-8':'float',\n",
    "          'I-2-DIV':'float',\n",
    "          'I-3-MOK':'float',\n",
    "          'I-4-KR1':'float',\n",
    "          'I-4-KR2':'float',\n",
    "          'I-V-6':'float',\n",
    "          'M-20-992-13':'float',\n",
    "          'M-20-992-27':'float',\n",
    "          'M-170-992-34':'float',\n",
    "          'M-190-21-35':'float',\n",
    "          'MRB':'float', \n",
    "          'III-8':'float',\n",
    "          'M-70-81-17':'float',\n",
    "          'I-5-STU':'float',\n",
    "          'I-6-MLJ':'float',\n",
    "          'I-7-M10':'float',\n",
    "          'I-7-M11':'float',\n",
    "          'I-7-M2':'float',\n",
    "          'M-20-30-14':'float',\n",
    "          'M-20-30-22':'float'\n",
    "         }\n",
    "\n",
    "parse_dates = ['vreme']"
   ]
  },
  {
   "cell_type": "code",
   "execution_count": 35,
   "metadata": {},
   "outputs": [],
   "source": [
    "# čitanje kreiranog CSV fajla sa merenim pritiscima (SCADA_2021_p.csv)\n",
    "\n",
    "df_p = pd.read_csv(\"SCADA_2021_p.csv\", sep=',', header=0, dtype=dtypes, parse_dates=parse_dates, infer_datetime_format=True)\n",
    "\n",
    "# određivanje indeks kolone\n",
    "df_p.set_index(\"vreme\", inplace=True)\n",
    "\n",
    "# definisanje kolona\n",
    "vreme = df_p.index\n",
    "LJB_p = df_p['I-1-LJB']          # 1\n",
    "BNI_p = df_p['I-BBV-2']          # 2\n",
    "BAB_p = df_p['BBV_II-8']         # 3\n",
    "DIV_p = df_p['I-2-DIV']          # 4\n",
    "MOK_p = df_p['I-3-MOK']          # 5\n",
    "KR1_p = df_p['I-4-KR1']          # 6\n",
    "KR2_p = df_p['I-4-KR2']          # 7\n",
    "VIN_p = df_p['I-V-6']            # 8\n",
    "VN1_p = df_p['M-20-992-13']      # 9\n",
    "VN2_p = df_p['M-20-992-27']      # 10\n",
    "VN3_p = df_p['M-170-992-34']     # 11\n",
    "VN4_p = df_p['M-190-21-35']      # 12\n",
    "\n",
    "M10_p = df_p['I-7-M10']          # 13\n",
    "M11_p = df_p['I-7-M11']          # 14\n",
    "M20_p = df_p['I-7-M2']           # 15\n",
    "\n",
    "STU_p = df_p['I-5-STU']          # 16\n",
    "MRB_p = df_p['MRB']              # 17\n",
    "MET_p = df_p['III-8']            # 18\n",
    "BUB_p = df_p['M-70-81-17']       # 19\n",
    "\n",
    "MLJ_p = df_p['I-6-MLJ']          # 20\n",
    "\n",
    "KNJ_p = df_p['M-20-30-14']       # 21\n",
    "DJM_p = df_p['M-20-30-22']       # 22\n",
    "\n",
    "NTX_p = df_p['M-10-20-1']        # 23\n",
    "ROD_p = df_p['M-10-40-3']        # 24\n"
   ]
  },
  {
   "cell_type": "code",
   "execution_count": 36,
   "metadata": {},
   "outputs": [
    {
     "name": "stdout",
     "output_type": "stream",
     "text": [
      "8.34\n"
     ]
    }
   ],
   "source": [
    "# print(df_p.columns) \n",
    "# print(df_p.index)\n",
    "\n",
    "# print(df_p['MRB'][0], type(df_p['MRB'][0]))\n",
    "print(MRB_p[0])\n"
   ]
  },
  {
   "cell_type": "code",
   "execution_count": 40,
   "metadata": {},
   "outputs": [],
   "source": [
    "TOOLS = [\"xpan\", \"xwheel_zoom\", \"box_zoom\", \"reset\", \"save\"]\n",
    "\n",
    "# TOOLTIPS = [\n",
    "#     (\"MP\", \"$name\"),\n",
    "#     (\"(Q,t)\", \"($y, $x)\")\n",
    "# ]\n",
    "\n",
    "\n",
    "hover = HoverTool(tooltips=[\n",
    "    (\"MP\", \"$name\"),\n",
    "    (\"p\", \"$y{0.0 a}\"),\n",
    "    (\"datum\", \"$x{%F}\"),\n",
    "    (\"vreme\", \"$x{%H:%M}\")\n",
    "#   ( 'close',  '$@{adj close}{%0.2f}' ), # use @{ } for field names with spaces\n",
    "#   ( 'volume', '@volume{0.00 a}'      ),\n",
    "    ],\n",
    "\n",
    "    formatters={\n",
    "        \"$x\": 'datetime'      #, use 'datetime' formatter for '@date' field\n",
    "#       '@{adj close}':'printf', # use 'printf' formatter for '@{adj close}' field\n",
    "                                 # use default 'numeral' formatter for other fields\n",
    "    },\n",
    "\n",
    "    # display a tooltip whenever the cursor is vertically in line with a glyph\n",
    "    mode='mouse'\n",
    ")"
   ]
  },
  {
   "cell_type": "code",
   "execution_count": 41,
   "metadata": {},
   "outputs": [],
   "source": [
    "# postavke za bokeh dijagram pritisaka\n",
    "\n",
    "p = figure(\n",
    "           plot_width=1500,\n",
    "           plot_height=300,\n",
    "           x_axis_type='datetime',\n",
    "           y_range=(0, 12),\n",
    "           tools=TOOLS+[hover],\n",
    "#            tooltips=TOOLTIPS,\n",
    "           active_scroll='xwheel_zoom',\n",
    "           background_fill_color=\"#f9f9f9\",\n",
    "           toolbar_location=\"above\"\n",
    "          )     \n",
    "\n",
    "p.add_tools(BoxSelectTool(dimensions=\"width\"))\n",
    "\n",
    "p.title.text_color=\"blue\"\n",
    "p.title.text_font=\"arial\"\n",
    "p.title.text_font_style=\"bold\"\n",
    "p.title.text_font_size=\"14pt\" # \"1.5em\" \n",
    "p.title.text_alpha=1 #floating point between 0 (transparent) and 1 (opaque)\n",
    "\n",
    "p.xaxis.minor_tick_line_color=None\n",
    "p.yaxis.minor_tick_line_color=None\n",
    "p.xaxis.axis_label=\"Време\"\n",
    "p.yaxis.axis_label=\"Притисак (бар)\" \n",
    "\n",
    "p.xaxis.formatter=DatetimeTickFormatter(hours=[\"%H:%M\"],days=[\"%d %B\"],months=[\"%B %Y\"],years=[\"%Y\"])\n",
    "\n",
    "p.toolbar.autohide = True"
   ]
  },
  {
   "cell_type": "markdown",
   "metadata": {},
   "source": [
    "## МРБ"
   ]
  },
  {
   "cell_type": "code",
   "execution_count": 42,
   "metadata": {},
   "outputs": [],
   "source": [
    "p.title.text=\"МРБ\"\n",
    "\n",
    "p.line(vreme, MRB_p, color=\"green\", name=\"МРБ притисак\")\n",
    "\n",
    "show(p)"
   ]
  },
  {
   "cell_type": "code",
   "execution_count": null,
   "metadata": {},
   "outputs": [],
   "source": []
  }
 ],
 "metadata": {
  "kernelspec": {
   "display_name": "Python 3",
   "language": "python",
   "name": "python3"
  },
  "language_info": {
   "codemirror_mode": {
    "name": "ipython",
    "version": 3
   },
   "file_extension": ".py",
   "mimetype": "text/x-python",
   "name": "python",
   "nbconvert_exporter": "python",
   "pygments_lexer": "ipython3",
   "version": "3.9.2"
  }
 },
 "nbformat": 4,
 "nbformat_minor": 4
}
