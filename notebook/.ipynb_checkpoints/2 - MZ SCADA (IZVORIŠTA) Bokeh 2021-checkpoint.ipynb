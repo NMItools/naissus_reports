{
 "cells": [
  {
   "cell_type": "code",
   "execution_count": 1,
   "metadata": {},
   "outputs": [
    {
     "name": "stdout",
     "output_type": "stream",
     "text": [
      "Python v3.9.6 (tags/v3.9.6:db3ff76, Jun 28 2021, 15:26:21) [MSC v.1929 64 bit (AMD64)]\n",
      "Pandas v1.1.5\n",
      "Bokeh v2.2.3\n"
     ]
    }
   ],
   "source": [
    "import sys\n",
    "\n",
    "import pandas as pd\n",
    "import bokeh\n",
    "from bokeh.plotting import figure\n",
    "from bokeh.io import output_file, output_notebook, show\n",
    "from bokeh.models import DatetimeTickFormatter, BoxSelectTool, HoverTool, Label, LabelSet\n",
    "from bokeh.layouts import widgetbox\n",
    "from bokeh.models.widgets import Dropdown\n",
    "\n",
    "print('Python v' + sys.version)\n",
    "print('Pandas v' + pd.__version__)\n",
    "print('Bokeh v' + bokeh.__version__)"
   ]
  },
  {
   "cell_type": "markdown",
   "metadata": {},
   "source": [
    "#### Протоци"
   ]
  },
  {
   "cell_type": "code",
   "execution_count": 3,
   "metadata": {},
   "outputs": [],
   "source": [
    "# priprema tipova kolona\n",
    "\n",
    "dtypes = {'vreme': 'str',\n",
    "          'I-1-LJB':'float',\n",
    "          'I-BBV-2':'float',\n",
    "          'BBV_II-8':'float',\n",
    "          'I-2-DIV':'float',\n",
    "          'I-3-MOK':'float',\n",
    "          'I-4-KR1':'float',\n",
    "          'I-4-KR2':'float',\n",
    "          'I-V-6':'float',\n",
    "          'M-20-992-13':'float',\n",
    "          'M-20-992-27':'float',\n",
    "          'M-170-992-34':'float',\n",
    "          'M-190-21-35':'float',\n",
    "          'MRB':'float', \n",
    "          'III-8':'float',\n",
    "          'M-70-81-17':'float',\n",
    "          'I-5-STU':'float',\n",
    "          'I-6-MLJ':'float',\n",
    "          'I-7-M10':'float',\n",
    "          'I-7-M11':'float',\n",
    "          'I-7-M2':'float',\n",
    "          'M-20-30-14':'float',\n",
    "          'M-20-30-22':'float'\n",
    "         }\n",
    "\n",
    "parse_dates = ['vreme']\n",
    "\n",
    "# čitanje kreiranog CSV fajla sa merenim protocima (SCADA_2021.csv)\n",
    "\n",
    "df_q = pd.read_csv(\"..\\scada_data\\SCADA_2021.csv\", sep=',', header=0, dtype=dtypes, parse_dates=parse_dates, infer_datetime_format=True)\n",
    "\n",
    "# određivanje indeks kolone\n",
    "df_q.set_index(\"vreme\", inplace=True)\n",
    "\n",
    "# definisanje kolona\n",
    "vreme = df_q.index\n",
    "LJB = df_q['I-1-LJB']          # 1\n",
    "BNI = df_q['I-BBV-2']          # 2\n",
    "BAB = df_q['BBV_II-8']         # 3\n",
    "DIV = df_q['I-2-DIV']          # 4\n",
    "MOK = df_q['I-3-MOK']          # 5\n",
    "KR1 = df_q['I-4-KR1']          # 6\n",
    "KR2 = df_q['I-4-KR2']          # 7\n",
    "VIN = df_q['I-V-6']            # 8\n",
    "VN1 = df_q['M-20-992-13']      # 9\n",
    "VN2 = df_q['M-20-992-27']      # 10\n",
    "VN3 = df_q['M-170-992-34']     # 11\n",
    "VN4 = df_q['M-190-21-35']      # 12\n",
    "\n",
    "M10 = df_q['I-7-M10']          # 13\n",
    "M11 = df_q['I-7-M11']          # 14\n",
    "M20 = df_q['I-7-M2']           # 15\n",
    "\n",
    "STU = df_q['I-5-STU']          # 16\n",
    "MRB = df_q['MRB']              # 17\n",
    "MET = df_q['III-8']            # 18\n",
    "BUB = df_q['M-70-81-17']       # 19\n",
    "\n",
    "MLJ = df_q['I-6-MLJ']          # 20\n",
    "\n",
    "KNJ = df_q['M-20-30-14']       # 21\n",
    "DJM = df_q['M-20-30-22']       # 22\n",
    "\n",
    "NTX = df_q['M-10-20-1']        # 23\n",
    "ROD = df_q['M-10-40-3']        # 24"
   ]
  },
  {
   "cell_type": "code",
   "execution_count": 4,
   "metadata": {
    "scrolled": true
   },
   "outputs": [
    {
     "name": "stdout",
     "output_type": "stream",
     "text": [
      "Index(['I-1-LJB', 'I-BBV-2', 'BBV_II-8', 'I-2-DIV', 'I-3-MOK', 'I-4-KR1',\n",
      "       'I-4-KR2', 'I-V-6', 'I-5-STU', 'MRB', 'III-8', 'M-70-81-17', 'I-7-M10',\n",
      "       'I-7-M11', 'I-7-M2', 'I-6-MLJ', 'M-20-992-13', 'M-20-992-27',\n",
      "       'M-170-992-34', 'M-190-21-35', 'M-100-120-9', 'M-10-100-11',\n",
      "       'M-10-20-1', 'M-10-20-12', 'M-10-40-3', 'M-10-40-4', 'M-10-50-5',\n",
      "       'M-10-60-6', 'M-10-80-7', 'M-10-80-8', 'M-10-90-10', 'M-10-90-32',\n",
      "       'M-120-150-28', 'M-20-100-15', 'M-20-30-14', 'M-20-30-22', 'M-20-40-18',\n",
      "       'M-20-40-21', 'M-20-50-23', 'M-40-50-16', 'M-50-60-19', 'M-80-140-29',\n",
      "       'M-90-91-20'],\n",
      "      dtype='object')\n",
      "DatetimeIndex(['2021-01-01 00:00:00', '2021-01-01 00:10:00',\n",
      "               '2021-01-01 00:20:00', '2021-01-01 00:30:00',\n",
      "               '2021-01-01 00:40:00', '2021-01-01 00:50:00',\n",
      "               '2021-01-01 01:00:00', '2021-01-01 01:10:00',\n",
      "               '2021-01-01 01:20:00', '2021-01-01 01:30:00',\n",
      "               ...\n",
      "               '2021-12-31 07:50:00', '2021-12-31 08:00:00',\n",
      "               '2021-12-31 08:10:00', '2021-12-31 08:20:00',\n",
      "               '2021-12-31 08:30:00', '2021-12-31 08:40:00',\n",
      "               '2021-12-31 08:50:00', '2021-12-31 09:00:00',\n",
      "               '2021-12-31 09:10:00', '2021-12-31 09:20:00'],\n",
      "              dtype='datetime64[ns]', name='vreme', length=52473, freq=None)\n"
     ]
    }
   ],
   "source": [
    "print(df_q.columns) \n",
    "print(df_q.index)\n",
    "\n",
    "# print(df_q.index[1])\n",
    "# print(df_q['I-1-LJB'][0], type(df_q['I-1-LJB'][0]))\n",
    "# print(df_q['I-1-LJB'][1], type(df_q['I-1-LJB'][1]))\n",
    "# print(df_q['I-1-LJB'][2], type(df_q['I-1-LJB'][2]))"
   ]
  },
  {
   "cell_type": "code",
   "execution_count": 5,
   "metadata": {},
   "outputs": [],
   "source": [
    "# čitanje kreiranog CSV fajla sa merenim pritiscima (SCADA_2021_p.csv)\n",
    "\n",
    "df_p = pd.read_csv(\"..\\scada_data\\SCADA_2021_p.csv\", sep=',', header=0, dtype=dtypes, parse_dates=parse_dates, infer_datetime_format=True)\n",
    "\n",
    "# određivanje indeks kolone\n",
    "df_p.set_index(\"vreme\", inplace=True)\n",
    "\n",
    "# definisanje kolona\n",
    "vreme = df_q.index\n",
    "LJB_p = df_p['I-1-LJB']          # 1\n",
    "BNI_p = df_p['I-BBV-2']          # 2\n",
    "BAB_p = df_p['BBV_II-8']         # 3\n",
    "DIV_p = df_p['I-2-DIV']          # 4\n",
    "MOK_p = df_p['I-3-MOK']          # 5\n",
    "KR1_p = df_p['I-4-KR1']          # 6\n",
    "KR2_p = df_p['I-4-KR2']          # 7\n",
    "VIN_p = df_p['I-V-6']            # 8\n",
    "VN1_p = df_p['M-20-992-13']      # 9\n",
    "VN2_p = df_p['M-20-992-27']      # 10\n",
    "VN3_p = df_p['M-170-992-34']     # 11\n",
    "VN4_p = df_p['M-190-21-35']      # 12\n",
    "\n",
    "M10_p = df_p['I-7-M10']          # 13\n",
    "M11_p = df_p['I-7-M11']          # 14\n",
    "M20_p = df_p['I-7-M2']           # 15\n",
    "\n",
    "STU_p = df_p['I-5-STU']          # 16\n",
    "MRB_p = df_p['MRB']              # 17\n",
    "MET_p = df_p['III-8']            # 18\n",
    "BUB_p = df_p['M-70-81-17']       # 19\n",
    "\n",
    "MLJ_p = df_p['I-6-MLJ']          # 20\n",
    "\n",
    "KNJ_p = df_p['M-20-30-14']       # 21\n",
    "DJM_p = df_p['M-20-30-22']       # 22\n",
    "\n",
    "NTX_p = df_p['M-10-20-1']        # 23\n",
    "ROD_p = df_p['M-10-40-3']        # 24\n"
   ]
  },
  {
   "cell_type": "code",
   "execution_count": 6,
   "metadata": {},
   "outputs": [
    {
     "name": "stdout",
     "output_type": "stream",
     "text": [
      "170.82 8.34\n"
     ]
    }
   ],
   "source": [
    "# print(df_p.columns) \n",
    "# print(df_p.index)\n",
    "\n",
    "# print(df_p['MRB'][0], type(df_p['MRB'][0]))\n",
    "print(MRB[0], MRB_p[0])\n"
   ]
  },
  {
   "cell_type": "code",
   "execution_count": 7,
   "metadata": {},
   "outputs": [],
   "source": [
    "TOOLS = [\"xpan\", \"xwheel_zoom\", \"box_zoom\", \"reset\", \"save\"]\n",
    "\n",
    "# TOOLTIPS = [\n",
    "#     (\"MP\", \"$name\"),\n",
    "#     (\"(Q,t)\", \"($y, $x)\")\n",
    "# ]\n",
    "\n",
    "\n",
    "hover = HoverTool(tooltips=[\n",
    "    (\"MP\", \"$name\"),\n",
    "    (\"Q\", \"$y{0.0 a}\"),\n",
    "    (\"datum\", \"$x{%F}\"),\n",
    "    (\"vreme\", \"$x{%H:%M}\")\n",
    "#   ( 'close',  '$@{adj close}{%0.2f}' ), # use @{ } for field names with spaces\n",
    "#   ( 'volume', '@volume{0.00 a}'      ),\n",
    "    ],\n",
    "\n",
    "    formatters={\n",
    "        \"$x\": 'datetime'      #, use 'datetime' formatter for '@date' field\n",
    "#       '@{adj close}':'printf', # use 'printf' formatter for '@{adj close}' field\n",
    "                                 # use default 'numeral' formatter for other fields\n",
    "    },\n",
    "\n",
    "    # display a tooltip whenever the cursor is vertically in line with a glyph\n",
    "    mode='mouse'\n",
    ")"
   ]
  },
  {
   "cell_type": "code",
   "execution_count": 8,
   "metadata": {},
   "outputs": [],
   "source": [
    "# postavke za bokeh dijagram protoka\n",
    "\n",
    "f = figure(\n",
    "           plot_width=1500,\n",
    "           plot_height=500,\n",
    "           x_axis_type='datetime',\n",
    "           y_range=(-200, 1400),\n",
    "           tools=TOOLS+[hover],\n",
    "#            tooltips=TOOLTIPS,\n",
    "           active_scroll='xwheel_zoom',\n",
    "           background_fill_color=\"#f9f9f9\",\n",
    "           toolbar_location=\"above\"\n",
    "          )     \n",
    "\n",
    "f.add_tools(BoxSelectTool(dimensions=\"width\"))\n",
    "\n",
    "f.title.text_color=\"blue\"\n",
    "f.title.text_font=\"arial\"\n",
    "f.title.text_font_style=\"bold\"\n",
    "f.title.text_font_size=\"14pt\" # \"1.5em\" \n",
    "f.title.text_alpha=1 #floating point between 0 (transparent) and 1 (opaque)\n",
    "\n",
    "f.xaxis.minor_tick_line_color=None\n",
    "f.yaxis.minor_tick_line_color=None\n",
    "f.xaxis.axis_label=\"Време\"\n",
    "f.yaxis.axis_label=\"Проток (лит/сек)\" \n",
    "\n",
    "f.xaxis.formatter=DatetimeTickFormatter(hours=[\"%H:%M\"],days=[\"%d %B\"],months=[\"%B %Y\"],years=[\"%Y\"])\n",
    "\n",
    "f.toolbar.autohide = True"
   ]
  },
  {
   "cell_type": "code",
   "execution_count": 9,
   "metadata": {},
   "outputs": [],
   "source": [
    "# postavke za bokeh dijagram pritisaka\n",
    "\n",
    "p = figure(\n",
    "           plot_width=1500,\n",
    "           plot_height=14,\n",
    "           x_axis_type='datetime',\n",
    "           y_range=(-5, 13),\n",
    "           tools=TOOLS+[hover],\n",
    "#            tooltips=TOOLTIPS,\n",
    "           active_scroll='xwheel_zoom',\n",
    "           background_fill_color=\"#f9f9f9\",\n",
    "           toolbar_location=\"above\"\n",
    "          )     \n",
    "\n",
    "p.add_tools(BoxSelectTool(dimensions=\"width\"))\n",
    "\n",
    "p.title.text_color=\"blue\"\n",
    "p.title.text_font=\"arial\"\n",
    "p.title.text_font_style=\"bold\"\n",
    "p.title.text_font_size=\"14pt\" # \"1.5em\" \n",
    "p.title.text_alpha=1 #floating point between 0 (transparent) and 1 (opaque)\n",
    "\n",
    "p.xaxis.minor_tick_line_color=None\n",
    "p.yaxis.minor_tick_line_color=None\n",
    "p.xaxis.axis_label=\"Време\"\n",
    "p.yaxis.axis_label=\"Притисак (бар)\" \n",
    "\n",
    "p.xaxis.formatter=DatetimeTickFormatter(hours=[\"%H:%M\"],days=[\"%d %B\"],months=[\"%B %Y\"],years=[\"%Y\"])\n",
    "\n",
    "p.toolbar.autohide = True"
   ]
  },
  {
   "cell_type": "markdown",
   "metadata": {},
   "source": [
    "#### ИЗВОРИШТА (појединачне криве протока)"
   ]
  },
  {
   "cell_type": "code",
   "execution_count": 10,
   "metadata": {},
   "outputs": [],
   "source": [
    "f.title.text=\"НИВОС - Испоручена вода на извориштима 2021\"\n",
    "\n",
    "f.line(vreme, LJB, color=\"brown\", name=\"Љуберађа\", legend_label = 'Љуберађа')\n",
    "f.line(vreme, DIV, color=\"red\", name=\"Дивљана\", legend_label = 'Дивљана')\n",
    "f.line(vreme, MOK, color=\"purple\", name=\"Мокра\", legend_label = 'Мокра')\n",
    "f.line(vreme, KR1, color=\"orange\", name=\"Крупац (стара ПС)\", legend_label = 'Крупац (стара ПС)')\n",
    "f.line(vreme, KR2, color=\"yellow\", name=\"Крупац (нова ПС)\", legend_label = 'Крупац (нова ПС)')\n",
    "f.line(vreme, STU, color=\"cyan\", name=\"Студена\", legend_label = 'Студена')\n",
    "f.line(vreme, MLJ, color=\"green\", name=\"Миљковац\", legend_label = 'Миљковац')\n",
    "f.line(vreme, M10, color=\"blue\", name=\"Медијана 1\", legend_label = 'Медијана 1')\n",
    "f.line(vreme, M11, color=\"skyblue\", name=\"Медијана (потисни)\", legend_label = 'Медијана (потисни)')\n",
    "f.line(vreme, M20, color=\"powderblue\", name=\"Медијана 2\", legend_label = 'Медијана 2')\n",
    "\n",
    "f.legend.location = 'top_left'\n",
    "f.legend.title = 'Мерач протока'\n",
    "f.legend.title_text_font = 'Arial'\n",
    "f.legend.title_text_font_size = '10pt'\n",
    "f.legend.items.reverse()\n",
    "\n",
    "show(f)"
   ]
  },
  {
   "cell_type": "code",
   "execution_count": 10,
   "metadata": {},
   "outputs": [],
   "source": [
    "# РЕЗЕРВОАР ВИНИК\n",
    "\n",
    "# f.line(vreme, VIN, color=\"blue\", line_width = 2, name=\"Виник - улаз\", legend_label = 'Виник - улаз')\n",
    "# f.line(vreme, VN1, color=\"green\", name=\"Виник - према граду\", legend_label = 'Виник - према граду')\n",
    "# f.line(vreme, VN2, color=\"lightseagreen\", name=\"Виник - према Комрену\", legend_label = 'Виник - према Комрену')\n",
    "# f.line(vreme, VN3, color=\"cyan\", name=\"ПС Виник Довод\", legend_label = 'ПС Виник Довод')\n",
    "# f.line(vreme, VN4, color=\"lightsteelblue\", name=\"ПС Виник Одвод\", legend_label = 'ПС Виник Одвод')\n",
    "\n",
    "# f.line(vreme, LJB, color=\"brown\", name=\"Љуберађа\", legend_label = 'Љуберађа')\n",
    "# f.line(vreme, DIV, color=\"red\", name=\"Дивљана\", legend_label = 'Дивљана')\n",
    "# f.line(vreme, MOK, color=\"purple\", name=\"Мокра\", legend_label = 'Мокра')\n",
    "\n",
    "# f.line(vreme, BNI, color=\"red\", name=\"ПС Бабушница -> Ниш\", legend_label = 'ПС Бабушница -> Ниш')\n",
    "# f.line(vreme, BAB, color=\"purple\", name=\"рез. Бабушница\", legend_label = 'рез. Бабушница')\n",
    "\n",
    "# f.legend.location = 'top_left'\n",
    "# f.legend.title = 'Мерач протока'\n",
    "# f.legend.title_text_font = 'Arial'\n",
    "# f.legend.title_text_font_size = '10pt'\n",
    "# f.legend.items.reverse()\n",
    "\n",
    "# show(f)"
   ]
  },
  {
   "cell_type": "markdown",
   "metadata": {},
   "source": [
    "#### ИЗВОРИШТА (кумулативна крива протока)"
   ]
  },
  {
   "cell_type": "code",
   "execution_count": 11,
   "metadata": {},
   "outputs": [],
   "source": [
    "# f.title.text=\"НИВОС - Испоручена вода на извориштима 2021\"\n",
    "\n",
    "# # mm = ['I-1-LJB', 'I-2-DIV', 'I-3-MOK','I-4-KR1','I-4-KR2','I-5-STU','I-6-MLJ','I-7-M10','I-7-M11','I-7-M2']\n",
    "# # nazivi = ['Љуберађа', 'Дивљана', 'Мокра', 'Крупац (стара ПС)', 'Крупац (нова ПС)', 'Студена', 'Миљковац', 'Медијана 1', 'Медијана (потисни)', 'Медијана 2']\n",
    "# # boje = ['brown', 'red', 'purple', 'orange', 'yellow', 'cyan', 'green', 'blue', 'skyblue', 'powderblue']\n",
    "\n",
    "# mm = ['I-1-LJB', 'I-2-DIV', 'I-3-MOK','I-4-KR1','I-4-KR2','I-6-MLJ','I-7-M10','I-7-M11','I-7-M2']\n",
    "# nazivi = ['Љуберађа', 'Дивљана', 'Мокра', 'Крупац (стара ПС)', 'Крупац (нова ПС)', 'Миљковац', 'Медијана 1', 'Медијана (потисни)', 'Медијана 2']\n",
    "# boje = ['brown', 'red', 'purple', 'orange', 'yellow', 'green', 'blue', 'skyblue', 'powderblue']\n",
    "\n",
    "# f.varea_stack(stackers=mm, x='vreme', color=boje, legend_label=nazivi, source=df)\n",
    "\n",
    "# f.legend.location = 'top_left'\n",
    "# f.legend.title = 'Мерач протока'\n",
    "# f.legend.title_text_font = 'Arial'\n",
    "# f.legend.title_text_font_size = '10pt'\n",
    "# f.legend.items.reverse()\n",
    "\n",
    "# show(f)"
   ]
  },
  {
   "cell_type": "markdown",
   "metadata": {},
   "source": [
    "### Љуберађа - Виник"
   ]
  },
  {
   "cell_type": "code",
   "execution_count": 12,
   "metadata": {},
   "outputs": [],
   "source": [
    "# mm = ['I-1-LJB', 'I-2-DIV', 'I-3-MOK','I-4-KR1','I-4-KR2']\n",
    "# nazivi = ['Љуберађа', 'Дивљана', 'Мокра', 'Крупац (стара ПС)', 'Крупац (нова ПС)']\n",
    "# boje = ['brown', 'red', 'purple', 'orange', 'yellow']\n",
    "\n",
    "# f.varea_stack(stackers=mm, x='vreme', color=boje, legend_label=nazivi, source=df)\n",
    "# f.line(vreme, VIN, color=\"blue\", line_width = 2, name=\"Виник - улаз\", legend_label = 'Виник - улаз')\n",
    "\n",
    "# f.legend.location = 'top_left'\n",
    "# f.legend.title = 'Мерач протока'\n",
    "# f.legend.title_text_font = 'Arial'\n",
    "# f.legend.title_text_font_size = '10pt'\n",
    "# f.legend.items.reverse()\n",
    "\n",
    "# show(f)"
   ]
  },
  {
   "cell_type": "markdown",
   "metadata": {},
   "source": [
    "### Мерна Зона 30"
   ]
  },
  {
   "cell_type": "code",
   "execution_count": 13,
   "metadata": {},
   "outputs": [],
   "source": [
    "# f.title.text=\"Мерна Зона 30\"\n",
    "\n",
    "# f.line(vreme, M20, color=\"powderblue\", name=\"Медијана 2\")\n",
    "# f.line(vreme, DJM, color=\"red\", name=\"Ђачко острво (Медијана)\")\n",
    "# f.line(vreme, KNJ, color=\"green\", name=\"Књажевачка\")\n",
    "\n",
    "\n",
    "# show(f)"
   ]
  },
  {
   "cell_type": "markdown",
   "metadata": {},
   "source": [
    "## МРБ"
   ]
  },
  {
   "cell_type": "code",
   "execution_count": 14,
   "metadata": {},
   "outputs": [],
   "source": [
    "# p.title.text=\"МРБ\"\n",
    "\n",
    "# p.line(vreme, MRB_p, color=\"green\", name=\"МРБ притисак\")\n",
    "\n",
    "# show(p)"
   ]
  },
  {
   "cell_type": "markdown",
   "metadata": {},
   "source": [
    "### Хаварија \"Делта\" (АЦ 500) 23-октобар-2020"
   ]
  },
  {
   "cell_type": "code",
   "execution_count": 11,
   "metadata": {},
   "outputs": [],
   "source": [
    "# labela =Label(x=70, y=70, x_units='screen', text='LABELA', render_mode='css', \n",
    "#               border_line_color='black', border_line_alpha=1.0,\n",
    "#               background_fill_color='white', background_fill_alpha=1.0)\n",
    "# f.add_layout(labela)\n",
    "\n",
    "# f.title.text=\"Оштећење цевовода АЦ ∅500 - 23. Октобар 2020\"\n",
    "\n",
    "# f.line(vreme, VN1, line_width = 2, color=\"powderblue\", name=\"Виник 1 (подвожњак)\", legend_label = 'Виник 1 (подвожњак)')\n",
    "# f.line(vreme, NTX, line_width = 1, color=\"red\", name=\"Нитекс\", legend_label = 'Нитекс')\n",
    "# f.line(vreme, ROD, line_width = 1, color=\"green\", name=\"Рода (Меркатор)\", legend_label = 'Рода (Меркатор)')\n",
    "\n",
    "# f.legend.location = 'top_left'\n",
    "# f.legend.title = 'Мерач протока'\n",
    "# f.legend.title_text_font = 'Arial'\n",
    "# f.legend.title_text_font_size = '10pt'\n",
    "\n"
   ]
  },
  {
   "cell_type": "code",
   "execution_count": 16,
   "metadata": {},
   "outputs": [],
   "source": [
    "# menu = [(\"Option 1\", \"item_1\"), (\"Option 2\", \"item_2\")]\n",
    "# dropdown = Dropdown(label=\"Dropdown Menu\", button_type=\"warning\", menu=menu)\n",
    "\n",
    "# f.legend.location = 'top_left'\n",
    "# f.legend.title = 'Мерачи протока 2021'\n",
    "# f.legend.title_text_font = 'Arial'\n",
    "# f.legend.title_text_font_size = '10pt'\n",
    "\n"
   ]
  },
  {
   "cell_type": "code",
   "execution_count": 17,
   "metadata": {},
   "outputs": [],
   "source": [
    "# from bokeh.models import ColumnDataSource\n",
    "# from bokeh.plotting import figure, show\n",
    "\n",
    "# data = {\n",
    "#     \"months\": [date(2019, 5, 1), date(2019, 6, 1), date(2019, 7, 1), date(2019, 8, 1)],\n",
    "#     \"dogs\": [7, 5, 12, 8],\n",
    "#     \"cats\": [25, 20, 10, 7],\n",
    "# }\n",
    "\n",
    "# column_data = ColumnDataSource(data=data)\n",
    "\n",
    "# p = figure(\n",
    "#     min_width=500,\n",
    "#     plot_height=300,\n",
    "#     sizing_mode=\"stretch_width\",\n",
    "#     toolbar_location=None,\n",
    "#     tools=\"\",\n",
    "#     x_axis_type=\"datetime\",\n",
    "# )\n",
    "\n",
    "# p.varea_stack(\n",
    "#     [\"dogs\", \"cats\"],\n",
    "#     x=\"months\",\n",
    "#     color=[\"#ff0000\", \"#00ff00\"],\n",
    "#     source=column_data,\n",
    "# )\n",
    "\n",
    "# show(p)"
   ]
  },
  {
   "cell_type": "code",
   "execution_count": 18,
   "metadata": {},
   "outputs": [],
   "source": [
    "# import numpy as np\n",
    "# import pandas as pd\n",
    "\n",
    "# from bokeh.palettes import brewer\n",
    "# from bokeh.plotting import figure, output_file, show\n",
    "\n",
    "# output_file('stacked_area.html')\n",
    "\n",
    "# N = 3\n",
    "# df = pd.DataFrame(np.random.randint(10, 100, size=(15, N))).add_prefix('y')\n",
    "\n",
    "# p = figure(x_range=(0, len(df)-1), y_range=(0, 800))\n",
    "# p.grid.minor_grid_line_color = '#eeeeee'\n",
    "\n",
    "# names = [\"y%d\" % i for i in range(N)]\n",
    "# p.varea_stack(stackers=names, x='index', color=brewer['Spectral'][N], legend_label=names, source=df)\n",
    "\n",
    "# # reverse the legend entries to match the stacked order\n",
    "# p.legend.items.reverse()\n",
    "\n",
    "# show(p)"
   ]
  },
  {
   "cell_type": "code",
   "execution_count": null,
   "metadata": {},
   "outputs": [],
   "source": []
  }
 ],
 "metadata": {
  "kernelspec": {
   "display_name": "Python 3",
   "language": "python",
   "name": "python3"
  },
  "language_info": {
   "codemirror_mode": {
    "name": "ipython",
    "version": 3
   },
   "file_extension": ".py",
   "mimetype": "text/x-python",
   "name": "python",
   "nbconvert_exporter": "python",
   "pygments_lexer": "ipython3",
   "version": "3.9.6"
  }
 },
 "nbformat": 4,
 "nbformat_minor": 4
}
